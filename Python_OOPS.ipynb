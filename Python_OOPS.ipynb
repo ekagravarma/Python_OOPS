{
  "nbformat": 4,
  "nbformat_minor": 0,
  "metadata": {
    "colab": {
      "name": "Python_OOPS.ipynb",
      "provenance": [],
      "authorship_tag": "ABX9TyNm7291LU4SZFBtQXFYs1Ep",
      "include_colab_link": true
    },
    "kernelspec": {
      "name": "python3",
      "display_name": "Python 3"
    },
    "language_info": {
      "name": "python"
    }
  },
  "cells": [
    {
      "cell_type": "markdown",
      "metadata": {
        "id": "view-in-github",
        "colab_type": "text"
      },
      "source": [
        "<a href=\"https://colab.research.google.com/github/ekagravarma/Python_OOPS/blob/main/Python_OOPS.ipynb\" target=\"_parent\"><img src=\"https://colab.research.google.com/assets/colab-badge.svg\" alt=\"Open In Colab\"/></a>"
      ]
    },
    {
      "cell_type": "code",
      "execution_count": null,
      "metadata": {
        "id": "lQx0iGfHzvQ1"
      },
      "outputs": [],
      "source": [
        "# Pass - its a keyword that passes through a code(Class,function etc)"
      ]
    },
    {
      "cell_type": "markdown",
      "source": [
        "#Defining class and Object, class is a template and object is a instance of class\n"
      ],
      "metadata": {
        "id": "z34cvKGd7WDw"
      }
    },
    {
      "cell_type": "code",
      "source": [
        "class student:\n",
        "  pass\n",
        "ekagra=student()\n",
        "kush=student()\n",
        "print(ekagra,kush)\n",
        "kush.roll=12\n",
        "print(\"\\n\",kush.roll , \"\\n\")\n",
        "\n",
        "#if an variable is declared in class then it cant be changed in through object variable\n"
      ],
      "metadata": {
        "colab": {
          "base_uri": "https://localhost:8080/"
        },
        "id": "uspV5MBX3SzF",
        "outputId": "cf5dfac1-ad3c-49e4-ef88-c68bb69422a4"
      },
      "execution_count": null,
      "outputs": [
        {
          "output_type": "stream",
          "name": "stdout",
          "text": [
            "<__main__.student object at 0x7f2ce282a9d0> <__main__.student object at 0x7f2ce276de90>\n",
            "\n",
            " 12 \n",
            "\n"
          ]
        }
      ]
    },
    {
      "cell_type": "markdown",
      "source": [
        "#__dict__\n",
        "#__self__\n",
        "#__init__ **for constructor**"
      ],
      "metadata": {
        "id": "LmCVz5Y97bCi"
      }
    },
    {
      "cell_type": "code",
      "source": [
        "#We use .__dict__ to get to know to print dictionary of variables sto9red in a class\n",
        "class instructor:\n",
        "  name = \"Luv\"\n",
        "  salary= 50\n",
        "\n",
        "\n",
        "print(instructor.__dict__, \"\\n\\n\")\n",
        "\n",
        "\n",
        "def printdetails(self):\n",
        "  return f\"the name is {self.name} the salary is {self.salary}\" \n",
        "  eka= instructor()\n",
        "  print(printdetails())\n",
        "  #We use .__init__ for cunstructor in Pyhton \n",
        "def __init__(self,aname,arole,asalary):\n",
        "  self.name=aname\n",
        "  self.role=arole\n",
        "  self.salary=asalary\n",
        "  ek = instructor(\"EKAGRA\",\"INS\",40)\n",
        "  print(ek.name,\"\\n\")\n",
        "  print(ek.role, \"\\n\")\n",
        "  print(ek.salary,\"\\n\")\n"
      ],
      "metadata": {
        "colab": {
          "base_uri": "https://localhost:8080/"
        },
        "id": "rWwtjpmV7biA",
        "outputId": "c931e040-94d0-4611-8bfa-737e5d4612ca"
      },
      "execution_count": 2,
      "outputs": [
        {
          "output_type": "stream",
          "name": "stdout",
          "text": [
            "{'__module__': '__main__', 'name': 'Luv', 'salary': 50, '__dict__': <attribute '__dict__' of 'instructor' objects>, '__weakref__': <attribute '__weakref__' of 'instructor' objects>, '__doc__': None} \n",
            "\n",
            "\n"
          ]
        }
      ]
    },
    {
      "cell_type": "code",
      "source": [
        ""
      ],
      "metadata": {
        "id": "gHNoI6oODtsJ"
      },
      "execution_count": null,
      "outputs": []
    }
  ]
}